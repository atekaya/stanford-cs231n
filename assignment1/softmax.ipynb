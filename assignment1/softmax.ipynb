{
 "cells": [
  {
   "cell_type": "markdown",
   "metadata": {},
   "source": [
    "# Softmax exercise\n",
    "\n",
    "*Complete and hand in this completed worksheet (including its outputs and any supporting code outside of the worksheet) with your assignment submission. For more details see the [assignments page](http://vision.stanford.edu/teaching/cs231n/assignments.html) on the course website.*\n",
    "\n",
    "This exercise is analogous to the SVM exercise. You will:\n",
    "\n",
    "- implement a fully-vectorized **loss function** for the Softmax classifier\n",
    "- implement the fully-vectorized expression for its **analytic gradient**\n",
    "- **check your implementation** with numerical gradient\n",
    "- use a validation set to **tune the learning rate and regularization** strength\n",
    "- **optimize** the loss function with **SGD**\n",
    "- **visualize** the final learned weights\n"
   ]
  },
  {
   "cell_type": "code",
   "execution_count": 2,
   "metadata": {
    "collapsed": false
   },
   "outputs": [
    {
     "name": "stdout",
     "output_type": "stream",
     "text": [
      "The autoreload extension is already loaded. To reload it, use:\n",
      "  %reload_ext autoreload\n"
     ]
    }
   ],
   "source": [
    "import random\n",
    "import numpy as np\n",
    "from cs231n.data_utils import load_CIFAR10\n",
    "import matplotlib.pyplot as plt\n",
    "%matplotlib inline\n",
    "plt.rcParams['figure.figsize'] = (10.0, 8.0) # set default size of plots\n",
    "plt.rcParams['image.interpolation'] = 'nearest'\n",
    "plt.rcParams['image.cmap'] = 'gray'\n",
    "\n",
    "# for auto-reloading extenrnal modules\n",
    "# see http://stackoverflow.com/questions/1907993/autoreload-of-modules-in-ipython\n",
    "%load_ext autoreload\n",
    "%autoreload 2"
   ]
  },
  {
   "cell_type": "code",
   "execution_count": 3,
   "metadata": {
    "collapsed": false
   },
   "outputs": [
    {
     "name": "stdout",
     "output_type": "stream",
     "text": [
      "Train data shape:  (49000, 3073)\n",
      "Train labels shape:  (49000,)\n",
      "Validation data shape:  (1000, 3073)\n",
      "Validation labels shape:  (1000,)\n",
      "Test data shape:  (1000, 3073)\n",
      "Test labels shape:  (1000,)\n",
      "dev data shape:  (500, 3073)\n",
      "dev labels shape:  (500,)\n"
     ]
    }
   ],
   "source": [
    "def get_CIFAR10_data(num_training=49000, num_validation=1000, num_test=1000, num_dev=500):\n",
    "  \"\"\"\n",
    "  Load the CIFAR-10 dataset from disk and perform preprocessing to prepare\n",
    "  it for the linear classifier. These are the same steps as we used for the\n",
    "  SVM, but condensed to a single function.  \n",
    "  \"\"\"\n",
    "  # Load the raw CIFAR-10 data\n",
    "  cifar10_dir = 'cs231n/datasets/cifar-10-batches-py'\n",
    "  X_train, y_train, X_test, y_test = load_CIFAR10(cifar10_dir)\n",
    "  \n",
    "  # subsample the data\n",
    "  mask = range(num_training, num_training + num_validation)\n",
    "  X_val = X_train[mask]\n",
    "  y_val = y_train[mask]\n",
    "  mask = range(num_training)\n",
    "  X_train = X_train[mask]\n",
    "  y_train = y_train[mask]\n",
    "  mask = range(num_test)\n",
    "  X_test = X_test[mask]\n",
    "  y_test = y_test[mask]\n",
    "  mask = np.random.choice(num_training, num_dev, replace=False)\n",
    "  X_dev = X_train[mask]\n",
    "  y_dev = y_train[mask]\n",
    "  \n",
    "  # Preprocessing: reshape the image data into rows\n",
    "  X_train = np.reshape(X_train, (X_train.shape[0], -1))\n",
    "  X_val = np.reshape(X_val, (X_val.shape[0], -1))\n",
    "  X_test = np.reshape(X_test, (X_test.shape[0], -1))\n",
    "  X_dev = np.reshape(X_dev, (X_dev.shape[0], -1))\n",
    "  \n",
    "  # Normalize the data: subtract the mean image\n",
    "  mean_image = np.mean(X_train, axis = 0)\n",
    "  X_train -= mean_image\n",
    "  X_val -= mean_image\n",
    "  X_test -= mean_image\n",
    "  X_dev -= mean_image\n",
    "  \n",
    "  # add bias dimension and transform into columns\n",
    "  X_train = np.hstack([X_train, np.ones((X_train.shape[0], 1))])\n",
    "  X_val = np.hstack([X_val, np.ones((X_val.shape[0], 1))])\n",
    "  X_test = np.hstack([X_test, np.ones((X_test.shape[0], 1))])\n",
    "  X_dev = np.hstack([X_dev, np.ones((X_dev.shape[0], 1))])\n",
    "  \n",
    "  return X_train, y_train, X_val, y_val, X_test, y_test, X_dev, y_dev\n",
    "\n",
    "\n",
    "# Invoke the above function to get our data.\n",
    "X_train, y_train, X_val, y_val, X_test, y_test, X_dev, y_dev = get_CIFAR10_data()\n",
    "print 'Train data shape: ', X_train.shape\n",
    "print 'Train labels shape: ', y_train.shape\n",
    "print 'Validation data shape: ', X_val.shape\n",
    "print 'Validation labels shape: ', y_val.shape\n",
    "print 'Test data shape: ', X_test.shape\n",
    "print 'Test labels shape: ', y_test.shape\n",
    "print 'dev data shape: ', X_dev.shape\n",
    "print 'dev labels shape: ', y_dev.shape"
   ]
  },
  {
   "cell_type": "markdown",
   "metadata": {},
   "source": [
    "## Softmax Classifier\n",
    "\n",
    "Your code for this section will all be written inside **cs231n/classifiers/softmax.py**. \n"
   ]
  },
  {
   "cell_type": "code",
   "execution_count": 4,
   "metadata": {
    "collapsed": false
   },
   "outputs": [
    {
     "name": "stdout",
     "output_type": "stream",
     "text": [
      "loss: 2.351989\n",
      "sanity check: 2.302585\n"
     ]
    }
   ],
   "source": [
    "# First implement the naive softmax loss function with nested loops.\n",
    "# Open the file cs231n/classifiers/softmax.py and implement the\n",
    "# softmax_loss_naive function.\n",
    "\n",
    "from cs231n.classifiers.softmax import softmax_loss_naive\n",
    "import time\n",
    "\n",
    "# Generate a random softmax weight matrix and use it to compute the loss.\n",
    "W = np.random.randn(3073, 10) * 0.0001\n",
    "loss, grad = softmax_loss_naive(W, X_dev, y_dev, 0.0)\n",
    "\n",
    "# As a rough sanity check, our loss should be something close to -log(0.1).\n",
    "print 'loss: %f' % loss\n",
    "print 'sanity check: %f' % (-np.log(0.1))"
   ]
  },
  {
   "cell_type": "markdown",
   "metadata": {},
   "source": [
    "## Inline Question 1:\n",
    "Why do we expect our loss to be close to -log(0.1)? Explain briefly.**\n",
    "\n",
    "**Your answer:** *Fill this in*\n"
   ]
  },
  {
   "cell_type": "code",
   "execution_count": 5,
   "metadata": {
    "collapsed": false
   },
   "outputs": [
    {
     "name": "stdout",
     "output_type": "stream",
     "text": [
      "numerical: -0.375492 analytic: -0.375492, relative error: 1.027510e-07\n",
      "numerical: -3.699950 analytic: -3.699950, relative error: 1.341092e-08\n",
      "numerical: 0.226513 analytic: 0.226512, relative error: 3.267658e-07\n",
      "numerical: -3.455490 analytic: -3.455490, relative error: 1.072354e-10\n",
      "numerical: -0.435211 analytic: -0.435211, relative error: 1.064083e-07\n",
      "numerical: -3.563762 analytic: -3.563762, relative error: 8.142134e-09\n",
      "numerical: -1.652270 analytic: -1.652270, relative error: 5.006431e-08\n",
      "numerical: 1.364681 analytic: 1.364681, relative error: 5.507732e-08\n",
      "numerical: 0.910231 analytic: 0.910231, relative error: 7.760387e-08\n",
      "numerical: 0.823183 analytic: 0.823183, relative error: 7.307965e-08\n",
      "numerical: 0.055465 analytic: 0.055473, relative error: 7.377638e-05\n",
      "numerical: -0.245669 analytic: -0.245685, relative error: 3.218279e-05\n",
      "numerical: 6.819524 analytic: 6.819524, relative error: 1.054385e-08\n",
      "numerical: -0.146398 analytic: -0.146429, relative error: 1.052931e-04\n",
      "numerical: -1.142261 analytic: -1.142267, relative error: 2.617043e-06\n",
      "numerical: 2.099170 analytic: 2.099154, relative error: 3.918449e-06\n",
      "numerical: 1.967645 analytic: 1.967642, relative error: 8.606278e-07\n",
      "numerical: -4.442654 analytic: -4.442660, relative error: 6.655119e-07\n",
      "numerical: -5.539519 analytic: -5.539510, relative error: 7.966330e-07\n",
      "numerical: -1.964526 analytic: -1.964528, relative error: 5.355847e-07\n"
     ]
    }
   ],
   "source": [
    "# Complete the implementation of softmax_loss_naive and implement a (naive)\n",
    "# version of the gradient that uses nested loops.\n",
    "loss, grad = softmax_loss_naive(W, X_dev, y_dev, 0.0)\n",
    "\n",
    "# As we did for the SVM, use numeric gradient checking as a debugging tool.\n",
    "# The numeric gradient should be close to the analytic gradient.\n",
    "from cs231n.gradient_check import grad_check_sparse\n",
    "f = lambda w: softmax_loss_naive(w, X_dev, y_dev, 0.0)[0]\n",
    "grad_numerical = grad_check_sparse(f, W, grad, 10)\n",
    "\n",
    "# similar to SVM case, do another gradient check with regularization\n",
    "loss, grad = softmax_loss_naive(W, X_dev, y_dev, 1e2)\n",
    "f = lambda w: softmax_loss_naive(w, X_dev, y_dev, 1e2)[0]\n",
    "grad_numerical = grad_check_sparse(f, W, grad, 10)"
   ]
  },
  {
   "cell_type": "code",
   "execution_count": 6,
   "metadata": {
    "collapsed": false
   },
   "outputs": [
    {
     "name": "stdout",
     "output_type": "stream",
     "text": [
      "naive loss: 2.351989e+00 computed in 0.308329s\n",
      "vectorized loss: 2.351989e+00 computed in 0.011673s\n",
      "Loss difference: 0.000000\n",
      "Gradient difference: 0.000000\n"
     ]
    }
   ],
   "source": [
    "# Now that we have a naive implementation of the softmax loss function and its gradient,\n",
    "# implement a vectorized version in softmax_loss_vectorized.\n",
    "# The two versions should compute the same results, but the vectorized version should be\n",
    "# much faster.\n",
    "tic = time.time()\n",
    "loss_naive, grad_naive = softmax_loss_naive(W, X_dev, y_dev, 0.00001)\n",
    "toc = time.time()\n",
    "print 'naive loss: %e computed in %fs' % (loss_naive, toc - tic)\n",
    "\n",
    "from cs231n.classifiers.softmax import softmax_loss_vectorized\n",
    "tic = time.time()\n",
    "loss_vectorized, grad_vectorized = softmax_loss_vectorized(W, X_dev, y_dev, 0.00001)\n",
    "toc = time.time()\n",
    "print 'vectorized loss: %e computed in %fs' % (loss_vectorized, toc - tic)\n",
    "\n",
    "# As we did for the SVM, we use the Frobenius norm to compare the two versions\n",
    "# of the gradient.\n",
    "grad_difference = np.linalg.norm(grad_naive - grad_vectorized, ord='fro')\n",
    "print 'Loss difference: %f' % np.abs(loss_naive - loss_vectorized)\n",
    "print 'Gradient difference: %f' % grad_difference"
   ]
  },
  {
   "cell_type": "code",
   "execution_count": 7,
   "metadata": {
    "collapsed": false
   },
   "outputs": [
    {
     "name": "stdout",
     "output_type": "stream",
     "text": [
      "lr 1.000000e-08 reg 5.000000e+04 train accuracy: 0.125918 val accuracy: 0.124000\n",
      "lr 1.000000e-08 reg 6.000000e+04 train accuracy: 0.132020 val accuracy: 0.111000\n",
      "lr 1.000000e-08 reg 7.000000e+04 train accuracy: 0.110551 val accuracy: 0.110000\n",
      "lr 1.000000e-08 reg 8.000000e+04 train accuracy: 0.125755 val accuracy: 0.140000\n",
      "lr 1.000000e-08 reg 9.000000e+04 train accuracy: 0.126122 val accuracy: 0.132000\n",
      "lr 1.000000e-08 reg 1.000000e+05 train accuracy: 0.111245 val accuracy: 0.103000\n",
      "lr 5.000000e-08 reg 5.000000e+04 train accuracy: 0.163224 val accuracy: 0.159000\n",
      "lr 5.000000e-08 reg 6.000000e+04 train accuracy: 0.155041 val accuracy: 0.165000\n",
      "lr 5.000000e-08 reg 7.000000e+04 train accuracy: 0.167490 val accuracy: 0.154000\n",
      "lr 5.000000e-08 reg 8.000000e+04 train accuracy: 0.169939 val accuracy: 0.174000\n",
      "lr 5.000000e-08 reg 9.000000e+04 train accuracy: 0.159694 val accuracy: 0.158000\n",
      "lr 5.000000e-08 reg 1.000000e+05 train accuracy: 0.152898 val accuracy: 0.160000\n",
      "lr 1.000000e-07 reg 5.000000e+04 train accuracy: 0.188429 val accuracy: 0.178000\n",
      "lr 1.000000e-07 reg 6.000000e+04 train accuracy: 0.191837 val accuracy: 0.208000\n",
      "lr 1.000000e-07 reg 7.000000e+04 train accuracy: 0.194429 val accuracy: 0.196000\n",
      "lr 1.000000e-07 reg 8.000000e+04 train accuracy: 0.185612 val accuracy: 0.203000\n",
      "lr 1.000000e-07 reg 9.000000e+04 train accuracy: 0.191041 val accuracy: 0.200000\n",
      "lr 1.000000e-07 reg 1.000000e+05 train accuracy: 0.195755 val accuracy: 0.194000\n",
      "lr 5.000000e-07 reg 5.000000e+04 train accuracy: 0.266347 val accuracy: 0.286000\n",
      "lr 5.000000e-07 reg 6.000000e+04 train accuracy: 0.262776 val accuracy: 0.288000\n",
      "lr 5.000000e-07 reg 7.000000e+04 train accuracy: 0.261490 val accuracy: 0.245000\n",
      "lr 5.000000e-07 reg 8.000000e+04 train accuracy: 0.260469 val accuracy: 0.267000\n",
      "lr 5.000000e-07 reg 9.000000e+04 train accuracy: 0.261694 val accuracy: 0.265000\n",
      "lr 5.000000e-07 reg 1.000000e+05 train accuracy: 0.260061 val accuracy: 0.275000\n",
      "lr 1.000000e-06 reg 5.000000e+04 train accuracy: 0.291878 val accuracy: 0.300000\n",
      "lr 1.000000e-06 reg 6.000000e+04 train accuracy: 0.297265 val accuracy: 0.307000\n",
      "lr 1.000000e-06 reg 7.000000e+04 train accuracy: 0.303367 val accuracy: 0.270000\n",
      "lr 1.000000e-06 reg 8.000000e+04 train accuracy: 0.297653 val accuracy: 0.307000\n",
      "lr 1.000000e-06 reg 9.000000e+04 train accuracy: 0.304041 val accuracy: 0.292000\n",
      "lr 1.000000e-06 reg 1.000000e+05 train accuracy: 0.305184 val accuracy: 0.313000\n",
      "lr 5.000000e-06 reg 5.000000e+04 train accuracy: 0.364388 val accuracy: 0.371000\n",
      "lr 5.000000e-06 reg 6.000000e+04 train accuracy: 0.364898 val accuracy: 0.356000\n",
      "lr 5.000000e-06 reg 7.000000e+04 train accuracy: 0.369776 val accuracy: 0.356000\n",
      "lr 5.000000e-06 reg 8.000000e+04 train accuracy: 0.360816 val accuracy: 0.376000\n",
      "lr 5.000000e-06 reg 9.000000e+04 train accuracy: 0.361041 val accuracy: 0.349000\n",
      "lr 5.000000e-06 reg 1.000000e+05 train accuracy: 0.346184 val accuracy: 0.362000\n",
      "lr 1.000000e-05 reg 5.000000e+04 train accuracy: 0.327245 val accuracy: 0.318000\n",
      "lr 1.000000e-05 reg 6.000000e+04 train accuracy: 0.310041 val accuracy: 0.299000\n",
      "lr 1.000000e-05 reg 7.000000e+04 train accuracy: 0.324673 val accuracy: 0.318000\n",
      "lr 1.000000e-05 reg 8.000000e+04 train accuracy: 0.317918 val accuracy: 0.304000\n",
      "lr 1.000000e-05 reg 9.000000e+04 train accuracy: 0.249898 val accuracy: 0.258000\n",
      "lr 1.000000e-05 reg 1.000000e+05 train accuracy: 0.284796 val accuracy: 0.303000\n",
      "best validation accuracy achieved during cross-validation: 0.376000\n"
     ]
    }
   ],
   "source": [
    "# Use the validation set to tune hyperparameters (regularization strength and\n",
    "# learning rate). You should experiment with different ranges for the learning\n",
    "# rates and regularization strengths; if you are careful you should be able to\n",
    "# get a classification accuracy of over 0.35 on the validation set.\n",
    "from cs231n.classifiers import Softmax\n",
    "results = {}\n",
    "best_val = -1\n",
    "best_softmax = None\n",
    "learning_rates = [1e-8,5e-8,1e-7,5e-7,1e-6,5e-6,1e-5]\n",
    "regularization_strengths = [5e4,6e4,7e4,8e4,9e4,1e5]\n",
    "\n",
    "\n",
    "################################################################################\n",
    "# TODO:                                                                        #\n",
    "# Use the validation set to set the learning rate and regularization strength. #\n",
    "# This should be identical to the validation that you did for the SVM; save    #\n",
    "# the best trained softmax classifer in best_softmax.                          #\n",
    "################################################################################\n",
    "for lambda_ in learning_rates:\n",
    "    for reg in regularization_strengths:\n",
    "        softmax = Softmax()\n",
    "        softmax.train(X_train, y_train, learning_rate=lambda_, reg=reg,\n",
    "                      num_iters=400, verbose=False)\n",
    "        y_train_pred = softmax.predict(X_train)\n",
    "        acc_train=np.mean(y_train == y_train_pred)\n",
    "        y_val_pred = softmax.predict(X_val)\n",
    "        acc_val=np.mean(y_val == y_val_pred)\n",
    "        results[(lambda_,reg)]=(acc_train,acc_val)\n",
    "        if best_val<acc_val:\n",
    "            best_val=acc_val\n",
    "            best_softmax=softmax\n",
    "################################################################################\n",
    "#                              END OF YOUR CODE                                #\n",
    "################################################################################\n",
    "    \n",
    "# Print out results.\n",
    "for lr, reg in sorted(results):\n",
    "    train_accuracy, val_accuracy = results[(lr, reg)]\n",
    "    print 'lr %e reg %e train accuracy: %f val accuracy: %f' % (\n",
    "                lr, reg, train_accuracy, val_accuracy)\n",
    "    \n",
    "print 'best validation accuracy achieved during cross-validation: %f' % best_val"
   ]
  },
  {
   "cell_type": "code",
   "execution_count": 8,
   "metadata": {
    "collapsed": false
   },
   "outputs": [
    {
     "name": "stdout",
     "output_type": "stream",
     "text": [
      "softmax on raw pixels final test set accuracy: 0.347000\n"
     ]
    }
   ],
   "source": [
    "# evaluate on test set\n",
    "# Evaluate the best softmax on test set\n",
    "y_test_pred = best_softmax.predict(X_test)\n",
    "test_accuracy = np.mean(y_test == y_test_pred)\n",
    "print 'softmax on raw pixels final test set accuracy: %f' % (test_accuracy, )"
   ]
  },
  {
   "cell_type": "code",
   "execution_count": 9,
   "metadata": {
    "collapsed": false
   },
   "outputs": [
    {
     "data": {
      "image/png": "[encoded data removed]",
      "text/plain": [
       "<matplotlib.figure.Figure at 0x7f250304dd10>"
      ]
     },
     "metadata": {},
     "output_type": "display_data"
    }
   ],
   "source": [
    "# Visualize the learned weights for each class\n",
    "w = best_softmax.W[:-1,:] # strip out the bias\n",
    "w = w.reshape(32, 32, 3, 10)\n",
    "\n",
    "w_min, w_max = np.min(w), np.max(w)\n",
    "\n",
    "classes = ['plane', 'car', 'bird', 'cat', 'deer', 'dog', 'frog', 'horse', 'ship', 'truck']\n",
    "for i in xrange(10):\n",
    "  plt.subplot(2, 5, i + 1)\n",
    "  \n",
    "  # Rescale the weights to be between 0 and 255\n",
    "  wimg = 255.0 * (w[:, :, :, i].squeeze() - w_min) / (w_max - w_min)\n",
    "  plt.imshow(wimg.astype('uint8'))\n",
    "  plt.axis('off')\n",
    "  plt.title(classes[i])"
   ]
  },
  {
   "cell_type": "code",
   "execution_count": null,
   "metadata": {
    "collapsed": true
   },
   "outputs": [],
   "source": []
  }
 ],
 "metadata": {
  "kernelspec": {
   "display_name": "Python 2",
   "language": "python",
   "name": "python2"
  },
  "language_info": {
   "codemirror_mode": {
    "name": "ipython",
    "version": 2
   },
   "file_extension": ".py",
   "mimetype": "text/x-python",
   "name": "python",
   "nbconvert_exporter": "python",
   "pygments_lexer": "ipython2",
   "version": "2.7.11"
  }
 },
 "nbformat": 4,
 "nbformat_minor": 0
}
